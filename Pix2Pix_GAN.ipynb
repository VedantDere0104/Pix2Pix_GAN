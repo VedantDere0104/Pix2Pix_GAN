{
  "nbformat": 4,
  "nbformat_minor": 0,
  "metadata": {
    "accelerator": "GPU",
    "colab": {
      "name": "Pix2Pix_GAN.ipynb",
      "provenance": [],
      "collapsed_sections": [],
      "mount_file_id": "18jPMPQZBoRTgBQy-VYFI1ArJb8D3flm-",
      "authorship_tag": "ABX9TyPDNyAA0jzwUc+5kUknSoYg",
      "include_colab_link": true
    },
    "kernelspec": {
      "display_name": "Python 3",
      "name": "python3"
    }
  },
  "cells": [
    {
      "cell_type": "markdown",
      "metadata": {
        "id": "view-in-github",
        "colab_type": "text"
      },
      "source": [
        "<a href=\"https://colab.research.google.com/github/VedantDere0104/Pix2Pix_GAN/blob/main/Pix2Pix_GAN.ipynb\" target=\"_parent\"><img src=\"https://colab.research.google.com/assets/colab-badge.svg\" alt=\"Open In Colab\"/></a>"
      ]
    },
    {
      "cell_type": "code",
      "metadata": {
        "id": "VEFbuLT4vTtk"
      },
      "source": [
        "####"
      ],
      "execution_count": 2,
      "outputs": []
    },
    {
      "cell_type": "code",
      "metadata": {
        "id": "j1uMzoGr9RSF"
      },
      "source": [
        "import torch\n",
        "from torch import nn\n",
        "from tqdm.auto import tqdm\n",
        "from torchvision import transforms\n",
        "from torchvision.datasets import VOCSegmentation\n",
        "from torchvision.utils import make_grid\n",
        "from torch.utils.data import DataLoader\n",
        "import matplotlib.pyplot as plt\n",
        "torch.manual_seed(0)\n",
        "import numpy as np\n",
        "from torchsummary import summary"
      ],
      "execution_count": 3,
      "outputs": []
    },
    {
      "cell_type": "code",
      "metadata": {
        "id": "tzG8tfsaHdwN"
      },
      "source": [
        "device = torch.device('cuda' if torch.cuda.is_available() else 'cpu')"
      ],
      "execution_count": 4,
      "outputs": []
    },
    {
      "cell_type": "code",
      "metadata": {
        "id": "HjWZmqrMH0Oj"
      },
      "source": [
        "def show_tensor_images(image_tensor, num_images=2, size=(1, 28, 28)):\n",
        "  image_shifted = image_tensor\n",
        "  image_unflat = image_shifted.detach().cpu().view(-1, *size)\n",
        "  image_grid = make_grid(image_unflat[:num_images], nrow=5)\n",
        "  plt.imshow(image_grid.permute(1, 2, 0).squeeze())\n",
        "  plt.show()"
      ],
      "execution_count": 5,
      "outputs": []
    },
    {
      "cell_type": "code",
      "metadata": {
        "id": "ZP_gEISVH2hj"
      },
      "source": [
        "def crop(image, new_shape):\n",
        "    middle_height = image.shape[2] // 2\n",
        "    middle_width = image.shape[3] // 2\n",
        "    starting_height = middle_height - new_shape[2] // 2\n",
        "    final_height = starting_height + new_shape[2]\n",
        "    starting_width = middle_width - new_shape[3] // 2\n",
        "    final_width = starting_width + new_shape[3]\n",
        "    cropped_image = image[:, :, starting_height:final_height, starting_width:final_width]\n",
        "    return cropped_image"
      ],
      "execution_count": 6,
      "outputs": []
    },
    {
      "cell_type": "code",
      "metadata": {
        "id": "SgQ0Lt-aLeIN"
      },
      "source": [
        "def get_summary(model , shape):\n",
        "  return summary(model , shape)"
      ],
      "execution_count": 7,
      "outputs": []
    },
    {
      "cell_type": "code",
      "metadata": {
        "id": "sBBDox745tDl"
      },
      "source": [
        "class Conv(nn.Module):\n",
        "  def __init__(self , \n",
        "               in_channels , \n",
        "               out_channels , \n",
        "               kernel_size = 3 , \n",
        "               stride = 1 , \n",
        "               padding = 1 , \n",
        "               use_norm = True , \n",
        "               use_activation = True , \n",
        "               use_dropout = False , \n",
        "               use_pool = True):\n",
        "    super(Conv , self).__init__()\n",
        "\n",
        "    self.use_norm = use_norm\n",
        "    self.use_activation = use_activation\n",
        "    self.use_dropout = use_dropout\n",
        "    self.use_pool = use_pool\n",
        "\n",
        "    self.conv1 = nn.Conv2d(in_channels , out_channels , kernel_size , stride , padding)\n",
        "\n",
        "    if self.use_norm:\n",
        "      self.norm = nn.InstanceNorm2d(out_channels)\n",
        "    if self.use_activation:\n",
        "      self.activation = nn.ReLU(inplace = True)\n",
        "    if self.use_dropout:\n",
        "      self.dropout = nn.Dropout()\n",
        "\n",
        "    if self.use_pool:\n",
        "      self.maxpool = nn.MaxPool2d(kernel_size=2 , stride=2)\n",
        "\n",
        "  def forward(self , x):\n",
        "    x = self.conv1(x)\n",
        "    if self.use_norm:\n",
        "      x = self.norm(x)\n",
        "    if self.use_activation:\n",
        "      x = self.activation(x)\n",
        "    if self.use_dropout:\n",
        "      x = self.dropout(x)\n",
        "    if self.use_pool:\n",
        "      x = self.maxpool(x)\n",
        "    return x\n"
      ],
      "execution_count": 8,
      "outputs": []
    },
    {
      "cell_type": "code",
      "metadata": {
        "id": "uPi62Z0kK2hd"
      },
      "source": [
        "conv = Conv(3 , 32).to(device)\n",
        "get_summary(conv , (3 , 512 , 512))"
      ],
      "execution_count": null,
      "outputs": []
    },
    {
      "cell_type": "code",
      "metadata": {
        "id": "RnNGItADLr7A"
      },
      "source": [
        "class ConvT(nn.Module):\n",
        "  def __init__(self , \n",
        "               in_channels , \n",
        "               out_channels , \n",
        "               kernel_size = (2 , 2) , \n",
        "               stride = (2 ,2) , \n",
        "               use_norm = True , \n",
        "               use_activation = True , \n",
        "               use_dropout = False):\n",
        "    super(ConvT , self).__init__()\n",
        "\n",
        "    self.use_norm = use_norm\n",
        "    self.use_activation = use_activation\n",
        "    self.use_dropout = use_dropout\n",
        "\n",
        "    self.convT1 = nn.ConvTranspose2d(in_channels , out_channels , kernel_size , stride)\n",
        "\n",
        "    if self.use_norm:\n",
        "      self.norm = nn.InstanceNorm2d(out_channels)\n",
        "    if self.use_activation:\n",
        "      self.activation = nn.ReLU(inplace=True)\n",
        "    if self.use_dropout:\n",
        "      self.dropout = nn.Dropout()\n",
        "\n",
        "  def forward(self , x):\n",
        "    x = self.convT1(x)\n",
        "    if self.use_norm:\n",
        "      x = self.norm(x)\n",
        "    if self.use_activation:\n",
        "      x = self.activation(x)\n",
        "    if self.use_dropout:\n",
        "      x = self.dropout(x)\n",
        "    return x"
      ],
      "execution_count": 10,
      "outputs": []
    },
    {
      "cell_type": "code",
      "metadata": {
        "id": "9pABT5elNXnH"
      },
      "source": [
        "convT = ConvT(3 , 32).to(device)\n",
        "get_summary(convT , (3 , 256 , 256))"
      ],
      "execution_count": null,
      "outputs": []
    },
    {
      "cell_type": "code",
      "metadata": {
        "id": "6nhzhQyNNewE"
      },
      "source": [
        "class Decoder_block(nn.Module):\n",
        "  def __init__(self , \n",
        "               in_channels , \n",
        "               out_channels , \n",
        "               use_norm = True , \n",
        "               use_dropout = False):\n",
        "    super(Decoder_block , self).__init__()\n",
        "\n",
        "    self.convT1 = ConvT(in_channels * 2 , in_channels * 2 , use_norm=use_norm , use_dropout=use_dropout)\n",
        "    self.conv1 = Conv(in_channels * 2 , out_channels , use_pool=False)\n",
        "\n",
        "  def forward(self , x , y):\n",
        "    y = crop(y , x.shape)\n",
        "    #print(x.shape,  y.shape)\n",
        "    x = torch.cat([x , y] , dim=1)\n",
        "    x = self.convT1(x)\n",
        "    \n",
        "    #print(x.shape,  y.shape)\n",
        "\n",
        "\n",
        "    x = self.conv1(x)\n",
        "    return x\n"
      ],
      "execution_count": 12,
      "outputs": []
    },
    {
      "cell_type": "code",
      "metadata": {
        "id": "OX2vAScuPFHf"
      },
      "source": [
        "decoder_block = Decoder_block(3 , 64).to(device)\n",
        "x = torch.randn(2 , 3 , 256 , 256).to(device)\n",
        "y = torch.randn(2 , 3 , 512 , 512).to(device)\n",
        "z = decoder_block(x , y)\n",
        "z.shape"
      ],
      "execution_count": null,
      "outputs": []
    },
    {
      "cell_type": "code",
      "metadata": {
        "id": "psiMFvZdPS3c"
      },
      "source": [
        "class Generator(nn.Module):\n",
        "  def __init__(self , \n",
        "               in_channels ,\n",
        "               out_channels , \n",
        "               hidden_dim = 32):\n",
        "    super(Generator , self).__init__()\n",
        "\n",
        "    self.conv1 = Conv(in_channels , hidden_dim * 2 , use_norm=False)\n",
        "    self.conv2 = Conv(hidden_dim * 2 , hidden_dim * 4)\n",
        "    self.conv3 = Conv(hidden_dim * 4 , hidden_dim * 8)\n",
        "    self.conv4 = Conv(hidden_dim * 8 , hidden_dim * 16)\n",
        "    self.conv5 = Conv(hidden_dim * 16 , hidden_dim * 32 , use_norm=False)\n",
        "    self.conv6 = Conv(hidden_dim * 32 , hidden_dim * 64 , use_norm=False)\n",
        "\n",
        "    self.middle = Conv(hidden_dim * 64 , hidden_dim * 64 , use_pool=False , use_norm=True)\n",
        "\n",
        "    in_channels = 3\n",
        "    self.decoder_1 = Decoder_block(hidden_dim * 64 , hidden_dim * 32 , use_norm=False)\n",
        "    self.decoder_2 = Decoder_block(hidden_dim * 32 , hidden_dim * 16)\n",
        "    self.decoder_3 = Decoder_block(hidden_dim * 16 , hidden_dim * 8)\n",
        "    self.decoder_4 = Decoder_block(hidden_dim * 8 , hidden_dim * 4)\n",
        "    self.decoder_5 = Decoder_block(hidden_dim * 4 , hidden_dim * 2 , use_norm=False)\n",
        "    self.decoder_6 = Decoder_block(hidden_dim * 2 , hidden_dim , use_norm=False)\n",
        "\n",
        "    self.last = Conv(hidden_dim , out_channels , use_pool=False , use_norm=False , use_activation=False)\n",
        "    self.sigmoid = nn.Sigmoid()\n",
        "  def forward(self , x):\n",
        "    x1 = self.conv1(x)\n",
        "    x2 = self.conv2(x1)\n",
        "    x3 = self.conv3(x2)\n",
        "    x4 = self.conv4(x3)\n",
        "    x5 = self.conv5(x4)\n",
        "    x6 = self.conv6(x5)\n",
        "    #print(x6.shape)\n",
        "    x_middle = self.middle(x6)\n",
        "    #print(x_middle.shape , x6.shape)\n",
        "\n",
        "    x7 = self.decoder_1(x_middle , x6)\n",
        "    x8 = self.decoder_2(x7 , x5)\n",
        "    x9 = self.decoder_3(x8, x4)\n",
        "    x10 = self.decoder_4(x9 , x3)\n",
        "    x11 = self.decoder_5(x10 , x2)\n",
        "    x12 = self.decoder_6(x11 , x1)\n",
        "\n",
        "    x_last = self.sigmoid(self.last(x12))\n",
        "    return x_last\n"
      ],
      "execution_count": 14,
      "outputs": []
    },
    {
      "cell_type": "code",
      "metadata": {
        "id": "RmP0kFfIUEGe"
      },
      "source": [
        "generator = Generator(3 , 3).to(device)\n",
        "get_summary(generator , (3 , 512 , 512))"
      ],
      "execution_count": null,
      "outputs": []
    },
    {
      "cell_type": "code",
      "metadata": {
        "id": "7AcHkXhfUJ0S"
      },
      "source": [
        "class Discriminator(nn.Module):\n",
        "  def __init__(self , \n",
        "               in_channels , \n",
        "               out_channels , \n",
        "               hidden_dim = 32):\n",
        "    super(Discriminator , self).__init__()\n",
        "\n",
        "    self.conv1 = Conv(in_channels , hidden_dim)\n",
        "    self.conv2 = Conv(hidden_dim , hidden_dim * 2)\n",
        "    self.conv3 = Conv(hidden_dim * 2 , hidden_dim * 4)\n",
        "    self.conv4 = Conv(hidden_dim * 4 , hidden_dim * 8)\n",
        "    self.conv5 = Conv(hidden_dim * 8 , hidden_dim * 16)\n",
        "    self.conv6 = Conv(hidden_dim * 16 , hidden_dim * 32)\n",
        "    self.conv7 = Conv(hidden_dim * 32 , 1)\n",
        "\n",
        "    self.flatten = nn.Flatten()\n",
        "\n",
        "    self.linear1 = nn.Linear(16 , 8)\n",
        "    self.linear2 = nn.Linear(8 , 1)\n",
        "    self.relu = nn.ReLU(inplace=True)\n",
        "    self.batchnorm = nn.BatchNorm1d(8)\n",
        "\n",
        "    self.sigmoid = nn.Sigmoid()\n",
        "\n",
        "  def forward(self , x):\n",
        "    x = self.conv1(x)\n",
        "    x = self.conv2(x)\n",
        "    x = self.conv3(x)\n",
        "    x = self.conv4(x)\n",
        "    x = self.conv5(x)\n",
        "    x = self.conv6(x)\n",
        "    x = self.conv7(x)\n",
        "    x = self.flatten(x)\n",
        "    #print(x.shape)\n",
        "    x = self.relu(self.batchnorm(self.linear1(x)))\n",
        "    x = self.sigmoid(self.linear2(x))\n",
        "    return x"
      ],
      "execution_count": 16,
      "outputs": []
    },
    {
      "cell_type": "code",
      "metadata": {
        "id": "14jMimRXXf5F"
      },
      "source": [
        "discriminator = Discriminator(3 , 1).to(device)\n",
        "summary(discriminator , (3 , 512 , 512))"
      ],
      "execution_count": null,
      "outputs": []
    },
    {
      "cell_type": "code",
      "metadata": {
        "id": "03-Cg-O9Xn86"
      },
      "source": [
        "adv_criterion = nn.BCEWithLogitsLoss()\n",
        "recon_criterion = nn.L1Loss()\n",
        "lambda_recon = 200\n",
        "\n",
        "\n",
        "n_epochs = 200\n",
        "in_channels = 3\n",
        "out_channels = 3\n",
        "display_step = 100\n",
        "batch_size = 2\n",
        "lr = 0.0002\n",
        "target_shape = 512\n",
        "\n"
      ],
      "execution_count": 18,
      "outputs": []
    },
    {
      "cell_type": "code",
      "metadata": {
        "id": "rejGQMoqYFga"
      },
      "source": [
        "\n",
        "transform = transforms.Compose([\n",
        "    transforms.ToTensor()\n",
        "])\n",
        "\n",
        "import torchvision\n",
        "dataset = torchvision.datasets.ImageFolder(\"/content/drive/MyDrive/Maps/maps/\", transform=transform)"
      ],
      "execution_count": 19,
      "outputs": []
    },
    {
      "cell_type": "code",
      "metadata": {
        "id": "4hGeNe5PYKSy"
      },
      "source": [
        "gen = Generator(in_channels , out_channels).to(device)\n",
        "gen_opt = torch.optim.Adam(gen.parameters(), lr=lr)\n",
        "disc = Discriminator(in_channels  , 1).to(device)\n",
        "disc_opt = torch.optim.Adam(disc.parameters(), lr=lr)"
      ],
      "execution_count": 20,
      "outputs": []
    },
    {
      "cell_type": "code",
      "metadata": {
        "id": "aA4H6EtZYQe5"
      },
      "source": [
        "def weights_init(m):\n",
        "    if isinstance(m, nn.Conv2d) or isinstance(m, nn.ConvTranspose2d):\n",
        "        torch.nn.init.normal_(m.weight, 0.0, 0.02)\n",
        "    if isinstance(m, nn.BatchNorm2d):\n",
        "        torch.nn.init.normal_(m.weight, 0.0, 0.02)\n",
        "        torch.nn.init.constant_(m.bias, 0)"
      ],
      "execution_count": 21,
      "outputs": []
    },
    {
      "cell_type": "code",
      "metadata": {
        "id": "Nt8aGfD5Ysiz"
      },
      "source": [
        "gen = gen.apply(weights_init)\n",
        "disc = disc.apply(weights_init)"
      ],
      "execution_count": null,
      "outputs": []
    },
    {
      "cell_type": "code",
      "metadata": {
        "id": "te5mxwtXY1wh"
      },
      "source": [
        "def get_loss(real , \n",
        "             condition , \n",
        "             gen = gen , \n",
        "             disc = disc , \n",
        "             adv_criterion = adv_criterion , \n",
        "             recon_criterion = recon_criterion , \n",
        "             lambda_recon=lambda_recon):\n",
        "  fake_gen = gen(condition)\n",
        "  disc_fake_pred = disc(fake_gen)\n",
        "  gen_loss_ = adv_criterion(fake_gen , real)\n",
        "  disc_loss = adv_criterion(disc_fake_pred , torch.zeros_like(disc_fake_pred))\n",
        "  gen_loss = recon_criterion(fake_gen , real)\n",
        "  loss = disc_loss + lambda_recon * gen_loss + lambda_recon * gen_loss_ \n",
        "  return loss"
      ],
      "execution_count": 23,
      "outputs": []
    },
    {
      "cell_type": "code",
      "metadata": {
        "id": "q3DtwBuupZoL"
      },
      "source": [
        "\n",
        "dataloader = DataLoader(dataset , batch_size = batch_size , shuffle=True)\n",
        "input_dim = 3\n",
        "real_dim = 3"
      ],
      "execution_count": 24,
      "outputs": []
    },
    {
      "cell_type": "code",
      "metadata": {
        "id": "EcRo-VIzpRS2"
      },
      "source": [
        "def train():\n",
        "  mean_generator_loss = 0\n",
        "  mean_discriminator_loss = 0\n",
        "  cur_step = 0\n",
        "  for epoch in range(n_epochs):\n",
        "    for img , _ in tqdm(dataloader):\n",
        "      image_width = img.shape[3]\n",
        "      condition = img[: , : , : , :image_width//2]\n",
        "      condition = nn.functional.interpolate(condition , size = target_shape)\n",
        "      real = img[: , : , : , image_width//2:]\n",
        "      real = nn.functional.interpolate(real , size = target_shape)\n",
        "      cur_batch_size = len(condition)\n",
        "      real = real.to(device)\n",
        "      condition = condition.to(device)\n",
        "      #print(torch.max(condition) , torch.max(real))\n",
        "\n",
        "      disc_opt.zero_grad()\n",
        "      with torch.no_grad():\n",
        "        fake_img = gen(condition)\n",
        "      disc_fake_pred = disc(fake_img)\n",
        "      disc_real_pred = disc(real)\n",
        "      disc_fake_loss = adv_criterion(disc_fake_pred , torch.zeros_like(disc_fake_pred))\n",
        "      disc_real_loss = adv_criterion(disc_real_pred , torch.ones_like(disc_real_pred))\n",
        "      disc_loss = (disc_fake_loss + disc_real_loss)/2\n",
        "      disc_loss.backward()\n",
        "      disc_opt.step()\n",
        "\n",
        "      gen_opt.zero_grad()\n",
        "      gen_loss = get_loss(real , condition)\n",
        "      gen_loss.backward()\n",
        "      gen_opt.step()\n",
        "\n",
        "      mean_discriminator_loss += disc_loss.item() / display_step\n",
        "      mean_generator_loss += gen_loss.item() / display_step\n",
        "\n",
        "\n",
        "      if cur_step % display_step == 0:\n",
        "        if cur_step > 0:\n",
        "          print(f\"Epoch {epoch}: Step {cur_step}: Generator loss: {mean_generator_loss}, Discriminator loss: {mean_discriminator_loss}\")\n",
        "        else:\n",
        "          print(\"Pretrained initial state\")\n",
        "        print('condition')\n",
        "        show_tensor_images(condition, size=(input_dim, target_shape, target_shape))\n",
        "        print('real')\n",
        "        show_tensor_images(real, size=(real_dim, target_shape, target_shape) )\n",
        "        print('Fake_generated_img')\n",
        "        show_tensor_images(fake_img, size=(real_dim, target_shape, target_shape) )\n",
        "        mean_generator_loss = 0\n",
        "        mean_discriminator_loss = 0\n",
        "      cur_step += 1"
      ],
      "execution_count": 26,
      "outputs": []
    },
    {
      "cell_type": "code",
      "metadata": {
        "id": "FyEUq7gerHyk"
      },
      "source": [
        "train()"
      ],
      "execution_count": null,
      "outputs": []
    },
    {
      "cell_type": "code",
      "metadata": {
        "id": "5M_C36qirJaB"
      },
      "source": [
        "#torch.save(gen.state_dict() , '/content/drive/MyDrive/Map_Datase_Gen_1.pth')"
      ],
      "execution_count": 28,
      "outputs": []
    },
    {
      "cell_type": "code",
      "metadata": {
        "id": "7CNMsDylsg8W"
      },
      "source": [
        "#torch.save(disc.state_dict() , '/content/drive/MyDrive/Map_Dataset_Disc_1.pth')"
      ],
      "execution_count": 29,
      "outputs": []
    },
    {
      "cell_type": "code",
      "metadata": {
        "id": "OKx5xOyrsqTh"
      },
      "source": [
        "#gen.load_state_dict(torch.load('/content/drive/MyDrive/Map_Datase_Gen_1.pth'))"
      ],
      "execution_count": null,
      "outputs": []
    },
    {
      "cell_type": "code",
      "metadata": {
        "id": "w1fRNZiiuESo"
      },
      "source": [
        "#gen.load_state_dict(torch.load('/content/drive/MyDrive/Map_Dataset_Gen_1.pth'))\n",
        "#disc.load_state_dict(torch.load('/content/drive/MyDrive/Map_Dataset_Disc_1.pth'))"
      ],
      "execution_count": null,
      "outputs": []
    }
  ]
}